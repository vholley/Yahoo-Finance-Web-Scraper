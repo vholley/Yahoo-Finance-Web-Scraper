{
 "cells": [
  {
   "cell_type": "code",
   "execution_count": 1,
   "metadata": {},
   "outputs": [],
   "source": [
    "# -*- coding: utf-8 -*-\n",
    "\n",
    "import pandas as pd\n",
    "import numpy as np\n",
    "import urllib.request as ur\n",
    "from bs4 import BeautifulSoup\n",
    "import warnings"
   ]
  },
  {
   "cell_type": "code",
   "execution_count": 2,
   "metadata": {},
   "outputs": [],
   "source": [
    "ticker = 'TSLA'"
   ]
  },
  {
   "cell_type": "code",
   "execution_count": 3,
   "metadata": {},
   "outputs": [],
   "source": [
    "# Begin yahoo_income_statement(ticker)\n",
    "# ============================================================================="
   ]
  },
  {
   "cell_type": "code",
   "execution_count": 4,
   "metadata": {},
   "outputs": [],
   "source": [
    "# ## Read the yahoo income statement url\n",
    "income_url = f'https://finance.yahoo.com/quote/{ticker}/financials?p={ticker}'\n",
    "\n",
    "read_url = ur.urlopen(income_url).read()\n",
    "\n",
    "# BeautifulSoup the xml\n",
    "income_soup = BeautifulSoup(read_url, 'lxml')"
   ]
  },
  {
   "cell_type": "code",
   "execution_count": 5,
   "metadata": {},
   "outputs": [],
   "source": [
    "# ## Find relevant data structures for financials\n",
    "div_list = []\n",
    "\n",
    "# Find all HTML data structures that are divs\n",
    "for div in income_soup.find_all('div'):\n",
    "    # Get the contents and titles\n",
    "    div_list.append(div.string)\n",
    "\n",
    "    # Prevent duplicate titles\n",
    "    if not div.string == div.get('title'):\n",
    "        div_list.append(div.get('title'))"
   ]
  },
  {
   "cell_type": "code",
   "execution_count": 6,
   "metadata": {},
   "outputs": [],
   "source": [
    "# ## Filter out irrelevant data\n",
    "# Exclude 'Operating Expenses' and 'Non-recurring Events'\n",
    "div_list = [incl for incl in div_list if incl not in\n",
    "            ('Operating Expenses', 'Non-recurring Events', 'Expand All')]\n",
    "\n",
    "# Filter out 'empty' elements\n",
    "div_list = list(filter(None, div_list))\n",
    "\n",
    "# Filter out functions\n",
    "div_list = [incl for incl in div_list if not incl.startswith('(function')]\n",
    "\n",
    "# Sublist the relevant financial information\n",
    "income_list = div_list[13: -5]\n",
    "\n",
    "# Insert \"Breakdown\" to the beginning of the list to give it the proper stucture\n",
    "income_list.insert(0, 'Breakdown')"
   ]
  },
  {
   "cell_type": "code",
   "execution_count": 7,
   "metadata": {},
   "outputs": [
    {
     "name": "stdout",
     "output_type": "stream",
     "text": [
      "0                                                          ttm  12/31/2019  \\\n",
      "Breakdown                                                                    \n",
      "Total Revenue                                       25,708,000  24,578,000   \n",
      "Cost of Revenue                                     20,625,000  20,509,000   \n",
      "Gross Profit                                         5,083,000   4,069,000   \n",
      "Operating Expense                                    3,865,000   3,989,000   \n",
      "Operating Income                                     1,218,000      80,000   \n",
      "Net Non Operating Interest Income Expense             -651,000    -641,000   \n",
      "Other Income Expense                                     3,000    -104,000   \n",
      "Pretax Income                                          570,000    -665,000   \n",
      "Tax Provision                                           91,000     110,000   \n",
      "Net Income Common Stockholders                         368,000    -862,000   \n",
      "Diluted NI Available to Com Stockholders               368,000    -862,000   \n",
      "Basic EPS                                                    -           0   \n",
      "Diluted EPS                                                  -           0   \n",
      "Basic Average Shares                                         -     885,000   \n",
      "Diluted Average Shares                                       -     885,000   \n",
      "Total Operating Income as Reported                   1,230,000     -69,000   \n",
      "Total Expenses                                      24,490,000  24,498,000   \n",
      "Net Income from Continuing & Discontinued Opera...     368,000    -862,000   \n",
      "Normalized Income                                      357,916    -738,330   \n",
      "Interest Income                                         43,000      44,000   \n",
      "Interest Expense                                       694,000     685,000   \n",
      "Net Interest Income                                   -651,000    -641,000   \n",
      "EBIT                                                 1,264,000      20,000   \n",
      "EBITDA                                               3,491,000           -   \n",
      "Reconciled Cost of Revenue                          20,625,000  20,509,000   \n",
      "Reconciled Depreciation                              2,227,000   2,154,000   \n",
      "Net Income from Continuing Operation Net Minori...     368,000    -862,000   \n",
      "Total Unusual Items Excluding Goodwill                  12,000    -149,000   \n",
      "Total Unusual Items                                     12,000    -149,000   \n",
      "Normalized EBITDA                                    3,479,000   2,323,000   \n",
      "Tax Rate for Calcs                                           0           0   \n",
      "Tax Effect of Unusual Items                              1,916     -25,330   \n",
      "\n",
      "0                                                   12/31/2018  12/31/2017  \\\n",
      "Breakdown                                                                    \n",
      "Total Revenue                                       21,461,268  11,758,751   \n",
      "Cost of Revenue                                     17,419,247   9,536,264   \n",
      "Gross Profit                                         4,042,021   2,222,487   \n",
      "Operating Expense                                    4,294,861   3,854,573   \n",
      "Operating Income                                      -252,840  -1,632,086   \n",
      "Net Non Operating Interest Income Expense             -638,538    -451,573   \n",
      "Other Income Expense                                  -113,367    -125,373   \n",
      "Pretax Income                                       -1,004,745  -2,209,032   \n",
      "Tax Provision                                           57,837      31,546   \n",
      "Net Income Common Stockholders                        -976,091  -1,961,400   \n",
      "Diluted NI Available to Com Stockholders              -976,091  -1,961,400   \n",
      "Basic EPS                                              -0.0011     -0.0024   \n",
      "Diluted EPS                                            -0.0011     -0.0024   \n",
      "Basic Average Shares                                   852,625     828,790   \n",
      "Diluted Average Shares                                 852,625     828,790   \n",
      "Total Operating Income as Reported                    -388,073  -1,632,086   \n",
      "Total Expenses                                      21,714,108  13,390,837   \n",
      "Net Income from Continuing & Discontinued Opera...    -976,091  -1,961,400   \n",
      "Normalized Income                                     -877,371  -1,961,400   \n",
      "Interest Income                                         24,533      19,686   \n",
      "Interest Expense                                       663,071     471,259   \n",
      "Net Interest Income                                   -638,538    -451,573   \n",
      "EBIT                                                  -341,674  -1,737,773   \n",
      "EBITDA                                                       -           -   \n",
      "Reconciled Cost of Revenue                          17,419,247   9,536,264   \n",
      "Reconciled Depreciation                              1,901,050   1,636,003   \n",
      "Net Income from Continuing Operation Net Minori...    -976,091  -1,961,400   \n",
      "Total Unusual Items Excluding Goodwill                -135,233           -   \n",
      "Total Unusual Items                                   -135,233           -   \n",
      "Normalized EBITDA                                    1,694,609    -101,770   \n",
      "Tax Rate for Calcs                                           0           0   \n",
      "Tax Effect of Unusual Items                            -36,513           0   \n",
      "\n",
      "0                                                  12/31/2016  \n",
      "Breakdown                                                      \n",
      "Total Revenue                                       7,000,132  \n",
      "Cost of Revenue                                     5,400,875  \n",
      "Gross Profit                                        1,599,257  \n",
      "Operating Expense                                   2,266,597  \n",
      "Operating Income                                     -667,340  \n",
      "Net Non Operating Interest Income Expense            -190,280  \n",
      "Other Income Expense                                  111,272  \n",
      "Pretax Income                                        -746,348  \n",
      "Tax Provision                                          26,698  \n",
      "Net Income Common Stockholders                       -674,914  \n",
      "Diluted NI Available to Com Stockholders             -674,914  \n",
      "Basic EPS                                                   0  \n",
      "Diluted EPS                                                 0  \n",
      "Basic Average Shares                                  721,060  \n",
      "Diluted Average Shares                                721,060  \n",
      "Total Operating Income as Reported                   -667,340  \n",
      "Total Expenses                                      7,667,472  \n",
      "Net Income from Continuing & Discontinued Opera...   -674,914  \n",
      "Normalized Income                                    -674,914  \n",
      "Interest Income                                         8,530  \n",
      "Interest Expense                                      198,810  \n",
      "Net Interest Income                                  -190,280  \n",
      "EBIT                                                 -547,538  \n",
      "EBITDA                                                      -  \n",
      "Reconciled Cost of Revenue                          5,400,875  \n",
      "Reconciled Depreciation                               947,099  \n",
      "Net Income from Continuing Operation Net Minori...   -674,914  \n",
      "Total Unusual Items Excluding Goodwill                      -  \n",
      "Total Unusual Items                                         -  \n",
      "Normalized EBITDA                                     399,561  \n",
      "Tax Rate for Calcs                                          0  \n",
      "Tax Effect of Unusual Items                                 0  \n"
     ]
    },
    {
     "name": "stderr",
     "output_type": "stream",
     "text": [
      "C:\\ProgramData\\Anaconda3\\lib\\site-packages\\ipykernel_launcher.py:15: UserWarning: Amounts are in thousands.\n",
      "  from ipykernel import kernelapp as app\n"
     ]
    }
   ],
   "source": [
    "# ## Create a DataFrame of the financial data\n",
    "\n",
    "# Store the financial items as a list of tuples\n",
    "income_data = list(zip(*[iter(income_list)]*6))\n",
    "\n",
    "# Create a DataFrame\n",
    "income_df = pd.DataFrame(income_data)\n",
    "\n",
    "# Make the top row the headers\n",
    "headers = income_df.iloc[0]\n",
    "income_df = income_df[1:]\n",
    "income_df.columns = headers\n",
    "income_df.set_index('Breakdown', inplace=True, drop=True)\n",
    "\n",
    "warnings.warn('Amounts are in thousands.')\n",
    "\n",
    "print(income_df)"
   ]
  },
  {
   "cell_type": "code",
   "execution_count": 8,
   "metadata": {},
   "outputs": [],
   "source": [
    "# End yahoo_income_statement(ticker)\n",
    "# ============================================================================="
   ]
  },
  {
   "cell_type": "code",
   "execution_count": 9,
   "metadata": {},
   "outputs": [],
   "source": [
    "# Begin yahoo_balance_sheet(ticker):\n",
    "# ============================================================================="
   ]
  },
  {
   "cell_type": "code",
   "execution_count": 10,
   "metadata": {},
   "outputs": [],
   "source": [
    "# ## Read the yahoo balance sheet url\n",
    "balancesheet_url = f'https://finance.yahoo.com/quote/{ticker}/balance-sheet?p={ticker}'\n",
    "\n",
    "read_url = ur.urlopen(balancesheet_url).read()\n",
    "\n",
    "# BeautifulSoup the xml\n",
    "balancesheet_soup = BeautifulSoup(read_url, 'lxml')"
   ]
  },
  {
   "cell_type": "code",
   "execution_count": 11,
   "metadata": {},
   "outputs": [],
   "source": [
    "# ## Find relevant data structures for balance sheet\n",
    "div_list = []\n",
    "\n",
    "# Find all HTML data structures that are divs\n",
    "for div in balancesheet_soup.find_all('div'):\n",
    "    # Get the contents and titles\n",
    "    div_list.append(div.string)\n",
    "\n",
    "    # Prevent duplicate titles\n",
    "    if not div.string == div.get('title'):\n",
    "        div_list.append(div.get('title'))"
   ]
  },
  {
   "cell_type": "code",
   "execution_count": 12,
   "metadata": {},
   "outputs": [],
   "source": [
    "# ## Filter out irrelevant data\n",
    "# Exclude 'Operating Expenses' and 'Non-recurring Events'\n",
    "div_list = [incl for incl in div_list if incl not in\n",
    "            ('Operating Expenses', 'Non-recurring Events', 'Expand All')]\n",
    "\n",
    "# Filter out 'empty' elements\n",
    "div_list = list(filter(None, div_list))\n",
    "\n",
    "# Filter out functions\n",
    "div_list = [incl for incl in div_list if not incl.startswith('(function')]\n",
    "\n",
    "# Sublist the relevant financial information\n",
    "balancesheet_list = div_list[13: -5]\n",
    "\n",
    "# Insert \"Breakdown\" to the beginning of the list to give it the proper stucture\n",
    "balancesheet_list.insert(0, 'Breakdown')"
   ]
  },
  {
   "cell_type": "code",
   "execution_count": 13,
   "metadata": {},
   "outputs": [
    {
     "name": "stdout",
     "output_type": "stream",
     "text": [
      "0                                        12/31/2019  12/31/2018  12/31/2017  \\\n",
      "Breakdown                                                                     \n",
      "Total Assets                             34,309,000  29,739,614  28,655,372   \n",
      "Total Liabilities Net Minority Interest  26,842,000  23,981,974  23,420,784   \n",
      "Total Equity Gross Minority Interest      7,467,000   5,757,640   5,234,588   \n",
      "Total Capitalization                     18,252,000  14,326,915  13,655,631   \n",
      "Common Stock Equity                       6,618,000   4,923,243   4,237,242   \n",
      "Capital Lease Obligations                 1,050,000   1,855,900   1,801,010   \n",
      "Net Tangible Assets                       6,081,000   4,572,592   3,815,503   \n",
      "Working Capital                           1,436,000  -1,685,828  -1,104,150   \n",
      "Invested Capital                         20,037,000  16,894,614  14,552,180   \n",
      "Tangible Book Value                       6,081,000   4,572,592   3,815,503   \n",
      "Total Debt                               14,469,000  13,827,271  12,115,948   \n",
      "Net Debt                                  7,151,000   8,285,753   6,947,024   \n",
      "Share Issued                                905,310     863,013     843,985   \n",
      "Ordinary Shares Number                      905,310     863,013     843,985   \n",
      "\n",
      "0                                        12/31/2016  \n",
      "Breakdown                                            \n",
      "Total Assets                             22,664,076  \n",
      "Total Liabilities Net Minority Interest  17,125,990  \n",
      "Total Equity Gross Minority Interest      5,538,086  \n",
      "Total Capitalization                     10,731,195  \n",
      "Common Stock Equity                       4,752,911  \n",
      "Capital Lease Obligations                 1,459,684  \n",
      "Net Tangible Assets                       4,376,766  \n",
      "Working Capital                             432,791  \n",
      "Invested Capital                         11,881,342  \n",
      "Tangible Book Value                       4,376,766  \n",
      "Total Debt                                8,588,115  \n",
      "Net Debt                                  3,735,215  \n",
      "Share Issued                                807,805  \n",
      "Ordinary Shares Number                      807,805  \n"
     ]
    },
    {
     "name": "stderr",
     "output_type": "stream",
     "text": [
      "C:\\ProgramData\\Anaconda3\\lib\\site-packages\\ipykernel_launcher.py:15: UserWarning: Amounts are in thousands.\n",
      "  from ipykernel import kernelapp as app\n"
     ]
    }
   ],
   "source": [
    "# ## Create a DataFrame of the financial data\n",
    "\n",
    "# Store the financial items as a list of tuples\n",
    "balancesheet_data = list(zip(*[iter(balancesheet_list)]*5))\n",
    "\n",
    "# Create a DataFrame\n",
    "balancesheet_df = pd.DataFrame(balancesheet_data)\n",
    "\n",
    "# Make the top row the headers\n",
    "headers = balancesheet_df.iloc[0]\n",
    "balancesheet_df = balancesheet_df[1:]\n",
    "balancesheet_df.columns = headers\n",
    "balancesheet_df.set_index('Breakdown', inplace=True, drop=True)\n",
    "\n",
    "warnings.warn('Amounts are in thousands.')\n",
    "\n",
    "print(balancesheet_df)"
   ]
  },
  {
   "cell_type": "code",
   "execution_count": 14,
   "metadata": {},
   "outputs": [],
   "source": [
    "# End yahoo_balance_sheet(ticker):\n",
    "# ============================================================================="
   ]
  },
  {
   "cell_type": "code",
   "execution_count": 15,
   "metadata": {},
   "outputs": [],
   "source": [
    "# Begin yahoo_cash_flow(ticker)\n",
    "# ============================================================================="
   ]
  },
  {
   "cell_type": "code",
   "execution_count": 16,
   "metadata": {},
   "outputs": [],
   "source": [
    "# ## Read the yahoo cash flow url\n",
    "cashflow_url = f'https://finance.yahoo.com/quote/{ticker}/cash-flow?p={ticker}'\n",
    "\n",
    "read_url = ur.urlopen(cashflow_url).read()\n",
    "\n",
    "# BeautifulSoup the xml\n",
    "cashflow_soup = BeautifulSoup(read_url, 'lxml')"
   ]
  },
  {
   "cell_type": "code",
   "execution_count": 17,
   "metadata": {},
   "outputs": [],
   "source": [
    "# ## Find relevant data structures for cash flow\n",
    "div_list = []\n",
    "\n",
    "# Find all HTML data structures that are divs\n",
    "for div in cashflow_soup.find_all('div'):\n",
    "    # Get the contents and titles\n",
    "    div_list.append(div.string)\n",
    "\n",
    "    # Prevent duplicate titles\n",
    "    if not div.string == div.get('title'):\n",
    "        div_list.append(div.get('title'))"
   ]
  },
  {
   "cell_type": "code",
   "execution_count": 18,
   "metadata": {},
   "outputs": [],
   "source": [
    "# ## Filter out irrelevant data\n",
    "# Exclude 'Operating Expenses' and 'Non-recurring Events'\n",
    "div_list = [incl for incl in div_list if incl not in\n",
    "            ('Operating Expenses', 'Non-recurring Events', 'Expand All')]\n",
    "\n",
    "# Filter out 'empty' elements\n",
    "div_list = list(filter(None, div_list))\n",
    "\n",
    "# Filter out functions\n",
    "div_list = [incl for incl in div_list if not incl.startswith('(function')]\n",
    "\n",
    "# Sublist the relevant financial information\n",
    "cashflow_list = div_list[13: -5]\n",
    "\n",
    "# Insert \"Breakdown\" to the beginning of the list to give it the proper stucture\n",
    "cashflow_list.insert(0, 'Breakdown')\n"
   ]
  },
  {
   "cell_type": "code",
   "execution_count": 19,
   "metadata": {},
   "outputs": [
    {
     "name": "stdout",
     "output_type": "stream",
     "text": [
      "0                                          ttm  12/31/2019  12/31/2018  \\\n",
      "Breakdown                                                                \n",
      "Operating Cash Flow                  2,705,000   2,405,000   2,097,802   \n",
      "Investing Cash Flow                 -1,935,000  -1,436,000  -2,337,428   \n",
      "Financing Cash Flow                  2,870,000   1,529,000     573,755   \n",
      "End Cash Position                    9,089,000   6,783,000   4,276,388   \n",
      "Income Tax Paid Supplemental Data            -      54,000      35,409   \n",
      "Interest Paid Supplemental Data              -     455,000     380,836   \n",
      "Capital Expenditure                 -1,906,000  -1,437,000  -2,319,516   \n",
      "Issuance of Capital Stock            2,309,000     848,000           0   \n",
      "Issuance of Debt                    10,607,000  10,669,000   6,176,173   \n",
      "Repayment of Debt                  -10,357,000  -9,871,000  -6,087,029   \n",
      "Free Cash Flow                         799,000     968,000    -221,714   \n",
      "\n",
      "0                                  12/31/2017  12/31/2016  \n",
      "Breakdown                                                  \n",
      "Operating Cash Flow                   -60,654    -123,829  \n",
      "Investing Cash Flow                -4,418,967  -1,416,430  \n",
      "Financing Cash Flow                 4,414,864   3,743,976  \n",
      "End Cash Position                   3,367,914   3,393,216  \n",
      "Income Tax Paid Supplemental Data      65,695      16,385  \n",
      "Interest Paid Supplemental Data       182,571      38,693  \n",
      "Capital Expenditure                -4,081,354  -1,440,471  \n",
      "Issuance of Capital Stock             400,175   1,701,734  \n",
      "Issuance of Debt                    7,649,376   3,622,673  \n",
      "Repayment of Debt                  -4,263,788  -1,904,483  \n",
      "Free Cash Flow                     -4,142,008  -1,564,300  \n"
     ]
    },
    {
     "name": "stderr",
     "output_type": "stream",
     "text": [
      "C:\\ProgramData\\Anaconda3\\lib\\site-packages\\ipykernel_launcher.py:15: UserWarning: Amounts are in thousands.\n",
      "  from ipykernel import kernelapp as app\n"
     ]
    }
   ],
   "source": [
    "# ## Create a DataFrame of the financial data\n",
    "\n",
    "# Store the financial items as a list of tuples\n",
    "cashflow_data = list(zip(*[iter(cashflow_list)]*6))\n",
    "\n",
    "# Create a DataFrame\n",
    "cashflow_df = pd.DataFrame(cashflow_data)\n",
    "\n",
    "# Make the top row the headers\n",
    "headers = cashflow_df.iloc[0]\n",
    "cashflow_df = cashflow_df[1:]\n",
    "cashflow_df.columns = headers\n",
    "cashflow_df.set_index('Breakdown', inplace=True, drop=True)\n",
    "\n",
    "warnings.warn('Amounts are in thousands.')\n",
    "\n",
    "print(cashflow_df)"
   ]
  },
  {
   "cell_type": "code",
   "execution_count": 20,
   "metadata": {},
   "outputs": [],
   "source": [
    "# End yahoo_cash_flow(ticker)\n",
    "# ============================================================================="
   ]
  },
  {
   "cell_type": "code",
   "execution_count": null,
   "metadata": {},
   "outputs": [],
   "source": []
  }
 ],
 "metadata": {
  "kernelspec": {
   "display_name": "Python 3",
   "language": "python",
   "name": "python3"
  },
  "language_info": {
   "codemirror_mode": {
    "name": "ipython",
    "version": 3
   },
   "file_extension": ".py",
   "mimetype": "text/x-python",
   "name": "python",
   "nbconvert_exporter": "python",
   "pygments_lexer": "ipython3",
   "version": "3.7.4"
  }
 },
 "nbformat": 4,
 "nbformat_minor": 2
}
